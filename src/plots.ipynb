{
 "cells": [
  {
   "cell_type": "code",
   "execution_count": 6,
   "source": [
    "import sys\r\n",
    "import pandas as pd\r\n",
    "import matplotlib as plt\r\n",
    "from datetime import date, datetime, timedelta\r\n",
    "\r\n",
    "import config as cfg\r\n",
    "from SE_Interface import *"
   ],
   "outputs": [],
   "metadata": {}
  },
  {
   "cell_type": "code",
   "execution_count": 7,
   "source": [
    "se_interface = SE_Interface()\r\n",
    "\r\n",
    "now = datetime(year=2021, month=8, day=15, hour=23)\r\n",
    "data =  se_interface.request_SitePowerDetailed(now, timedelta(days=2))\r\n",
    "data\r\n"
   ],
   "outputs": [
    {
     "output_type": "stream",
     "name": "stdout",
     "text": [
      "Requesting: https://monitoringapi.solaredge.com/site/2130766/powerDetails?meters=Consumption,Production&startTime=2021-08-13 23:00:00&endTime=2021-08-15 23:00:00&api_key=NTT5LNJGA5CDCFI9OZGZCX2W1VD3CCW2\n"
     ]
    },
    {
     "output_type": "execute_result",
     "data": {
      "text/plain": [
       "                     Production  Consumption\n",
       "date                                        \n",
       "2021-08-13 23:00:00   871.66670    880.91580\n",
       "2021-08-13 23:15:00   868.66670    873.25183\n",
       "2021-08-13 23:30:00   802.66670    810.37335\n",
       "2021-08-13 23:45:00   899.66670    910.02637\n",
       "2021-08-14 00:00:00   505.66666    520.35657\n",
       "...                         ...          ...\n",
       "2021-08-15 21:45:00   569.33330    603.91800\n",
       "2021-08-15 22:00:00   519.75000    516.80536\n",
       "2021-08-15 22:15:00   606.00000    613.05110\n",
       "2021-08-15 22:30:00   629.33330    653.28235\n",
       "2021-08-15 22:45:00   672.00000    685.37024\n",
       "\n",
       "[192 rows x 2 columns]"
      ],
      "text/html": [
       "<div>\n",
       "<style scoped>\n",
       "    .dataframe tbody tr th:only-of-type {\n",
       "        vertical-align: middle;\n",
       "    }\n",
       "\n",
       "    .dataframe tbody tr th {\n",
       "        vertical-align: top;\n",
       "    }\n",
       "\n",
       "    .dataframe thead th {\n",
       "        text-align: right;\n",
       "    }\n",
       "</style>\n",
       "<table border=\"1\" class=\"dataframe\">\n",
       "  <thead>\n",
       "    <tr style=\"text-align: right;\">\n",
       "      <th></th>\n",
       "      <th>Production</th>\n",
       "      <th>Consumption</th>\n",
       "    </tr>\n",
       "    <tr>\n",
       "      <th>date</th>\n",
       "      <th></th>\n",
       "      <th></th>\n",
       "    </tr>\n",
       "  </thead>\n",
       "  <tbody>\n",
       "    <tr>\n",
       "      <th>2021-08-13 23:00:00</th>\n",
       "      <td>871.66670</td>\n",
       "      <td>880.91580</td>\n",
       "    </tr>\n",
       "    <tr>\n",
       "      <th>2021-08-13 23:15:00</th>\n",
       "      <td>868.66670</td>\n",
       "      <td>873.25183</td>\n",
       "    </tr>\n",
       "    <tr>\n",
       "      <th>2021-08-13 23:30:00</th>\n",
       "      <td>802.66670</td>\n",
       "      <td>810.37335</td>\n",
       "    </tr>\n",
       "    <tr>\n",
       "      <th>2021-08-13 23:45:00</th>\n",
       "      <td>899.66670</td>\n",
       "      <td>910.02637</td>\n",
       "    </tr>\n",
       "    <tr>\n",
       "      <th>2021-08-14 00:00:00</th>\n",
       "      <td>505.66666</td>\n",
       "      <td>520.35657</td>\n",
       "    </tr>\n",
       "    <tr>\n",
       "      <th>...</th>\n",
       "      <td>...</td>\n",
       "      <td>...</td>\n",
       "    </tr>\n",
       "    <tr>\n",
       "      <th>2021-08-15 21:45:00</th>\n",
       "      <td>569.33330</td>\n",
       "      <td>603.91800</td>\n",
       "    </tr>\n",
       "    <tr>\n",
       "      <th>2021-08-15 22:00:00</th>\n",
       "      <td>519.75000</td>\n",
       "      <td>516.80536</td>\n",
       "    </tr>\n",
       "    <tr>\n",
       "      <th>2021-08-15 22:15:00</th>\n",
       "      <td>606.00000</td>\n",
       "      <td>613.05110</td>\n",
       "    </tr>\n",
       "    <tr>\n",
       "      <th>2021-08-15 22:30:00</th>\n",
       "      <td>629.33330</td>\n",
       "      <td>653.28235</td>\n",
       "    </tr>\n",
       "    <tr>\n",
       "      <th>2021-08-15 22:45:00</th>\n",
       "      <td>672.00000</td>\n",
       "      <td>685.37024</td>\n",
       "    </tr>\n",
       "  </tbody>\n",
       "</table>\n",
       "<p>192 rows × 2 columns</p>\n",
       "</div>"
      ]
     },
     "metadata": {},
     "execution_count": 7
    }
   ],
   "metadata": {}
  },
  {
   "cell_type": "code",
   "execution_count": 27,
   "source": [
    "plt.plot(data[\"Production\"])\r\n",
    "\r\n",
    "\r\n",
    "for label in plt.ax.xaxis.get_ticklabels()[::2]:\r\n",
    "    label.set_visible(False)"
   ],
   "outputs": [
    {
     "output_type": "stream",
     "name": "stdout",
     "text": [
      "871.6667\n"
     ]
    }
   ],
   "metadata": {}
  },
  {
   "cell_type": "code",
   "execution_count": 16,
   "source": [],
   "outputs": [
    {
     "output_type": "execute_result",
     "data": {
      "text/plain": [
       "871.6667"
      ]
     },
     "metadata": {},
     "execution_count": 16
    }
   ],
   "metadata": {}
  },
  {
   "cell_type": "code",
   "execution_count": null,
   "source": [],
   "outputs": [],
   "metadata": {}
  }
 ],
 "metadata": {
  "orig_nbformat": 4,
  "language_info": {
   "name": "python",
   "version": "3.7.9",
   "mimetype": "text/x-python",
   "codemirror_mode": {
    "name": "ipython",
    "version": 3
   },
   "pygments_lexer": "ipython3",
   "nbconvert_exporter": "python",
   "file_extension": ".py"
  },
  "kernelspec": {
   "name": "python3",
   "display_name": "Python 3.7.9 64-bit"
  },
  "interpreter": {
   "hash": "9a83436940b59065249e0ac591e9ccdbda7a53659a5b7e612c47492e8a127fdd"
  }
 },
 "nbformat": 4,
 "nbformat_minor": 2
}