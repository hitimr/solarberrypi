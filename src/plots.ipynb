{
 "cells": [
  {
   "cell_type": "code",
   "execution_count": 9,
   "metadata": {},
   "outputs": [],
   "source": [
    "import sys\n",
    "import pandas as pd\n",
    "import matplotlib as plt\n",
    "from datetime import date, datetime, timedelta\n",
    "import matplotlib.dates as mdates\n",
    "from PIL import Image as im\n",
    "from matplotlib import colors\n",
    "\n",
    "from config import *\n",
    "from SE_Interface import *"
   ]
  },
  {
   "cell_type": "code",
   "execution_count": 6,
   "metadata": {},
   "outputs": [
    {
     "name": "stdout",
     "output_type": "stream",
     "text": [
      "Requesting: https://monitoringapi.solaredge.com/site/2130766/powerDetails?meters=Consumption,Production&startTime=2021-12-15 01:40:25&endTime=2021-12-16 01:40:25&api_key=NTT5LNJGA5CDCFI9OZGZCX2W1VD3CCW2\n"
     ]
    }
   ],
   "source": [
    "se_interface = SE_Interface()\n",
    "\n",
    "summer = datetime(year=2021, month=8, day=15, hour=23)\n",
    "now = datetime.now()\n",
    "data = se_interface.request_SitePowerDetailed(now, timedelta(days=1))\n",
    "#data = se_interface.request_SitePowerDetailed(summer, timedelta(days=1))"
   ]
  },
  {
   "cell_type": "code",
   "execution_count": 7,
   "metadata": {},
   "outputs": [
    {
     "data": {
      "text/html": [
       "<div>\n",
       "<style scoped>\n",
       "    .dataframe tbody tr th:only-of-type {\n",
       "        vertical-align: middle;\n",
       "    }\n",
       "\n",
       "    .dataframe tbody tr th {\n",
       "        vertical-align: top;\n",
       "    }\n",
       "\n",
       "    .dataframe thead th {\n",
       "        text-align: right;\n",
       "    }\n",
       "</style>\n",
       "<table border=\"1\" class=\"dataframe\">\n",
       "  <thead>\n",
       "    <tr style=\"text-align: right;\">\n",
       "      <th></th>\n",
       "      <th>Consumption</th>\n",
       "      <th>Production</th>\n",
       "    </tr>\n",
       "    <tr>\n",
       "      <th>Datetime</th>\n",
       "      <th></th>\n",
       "      <th></th>\n",
       "    </tr>\n",
       "  </thead>\n",
       "  <tbody>\n",
       "    <tr>\n",
       "      <th>2021-12-15 01:30:00</th>\n",
       "      <td>1367.8910</td>\n",
       "      <td>0.0</td>\n",
       "    </tr>\n",
       "    <tr>\n",
       "      <th>2021-12-15 01:45:00</th>\n",
       "      <td>1629.8054</td>\n",
       "      <td>0.0</td>\n",
       "    </tr>\n",
       "    <tr>\n",
       "      <th>2021-12-15 02:00:00</th>\n",
       "      <td>1690.4904</td>\n",
       "      <td>0.0</td>\n",
       "    </tr>\n",
       "    <tr>\n",
       "      <th>2021-12-15 02:15:00</th>\n",
       "      <td>1327.7227</td>\n",
       "      <td>0.0</td>\n",
       "    </tr>\n",
       "    <tr>\n",
       "      <th>2021-12-15 02:30:00</th>\n",
       "      <td>1335.8842</td>\n",
       "      <td>0.0</td>\n",
       "    </tr>\n",
       "    <tr>\n",
       "      <th>...</th>\n",
       "      <td>...</td>\n",
       "      <td>...</td>\n",
       "    </tr>\n",
       "    <tr>\n",
       "      <th>2021-12-16 00:30:00</th>\n",
       "      <td>1379.0643</td>\n",
       "      <td>0.0</td>\n",
       "    </tr>\n",
       "    <tr>\n",
       "      <th>2021-12-16 00:45:00</th>\n",
       "      <td>1348.4812</td>\n",
       "      <td>0.0</td>\n",
       "    </tr>\n",
       "    <tr>\n",
       "      <th>2021-12-16 01:00:00</th>\n",
       "      <td>1313.8855</td>\n",
       "      <td>0.0</td>\n",
       "    </tr>\n",
       "    <tr>\n",
       "      <th>2021-12-16 01:15:00</th>\n",
       "      <td>1672.4512</td>\n",
       "      <td>0.0</td>\n",
       "    </tr>\n",
       "    <tr>\n",
       "      <th>2021-12-16 01:30:00</th>\n",
       "      <td>1298.1741</td>\n",
       "      <td>0.0</td>\n",
       "    </tr>\n",
       "  </tbody>\n",
       "</table>\n",
       "<p>97 rows × 2 columns</p>\n",
       "</div>"
      ],
      "text/plain": [
       "                     Consumption  Production\n",
       "Datetime                                    \n",
       "2021-12-15 01:30:00    1367.8910         0.0\n",
       "2021-12-15 01:45:00    1629.8054         0.0\n",
       "2021-12-15 02:00:00    1690.4904         0.0\n",
       "2021-12-15 02:15:00    1327.7227         0.0\n",
       "2021-12-15 02:30:00    1335.8842         0.0\n",
       "...                          ...         ...\n",
       "2021-12-16 00:30:00    1379.0643         0.0\n",
       "2021-12-16 00:45:00    1348.4812         0.0\n",
       "2021-12-16 01:00:00    1313.8855         0.0\n",
       "2021-12-16 01:15:00    1672.4512         0.0\n",
       "2021-12-16 01:30:00    1298.1741         0.0\n",
       "\n",
       "[97 rows x 2 columns]"
      ]
     },
     "execution_count": 7,
     "metadata": {},
     "output_type": "execute_result"
    }
   ],
   "source": [
    "data"
   ]
  },
  {
   "cell_type": "code",
   "execution_count": 13,
   "metadata": {},
   "outputs": [
    {
     "ename": "TypeError",
     "evalue": "show() got an unexpected keyword argument 'cmap'",
     "output_type": "error",
     "traceback": [
      "\u001b[0;31m---------------------------------------------------------------------------\u001b[0m",
      "\u001b[0;31mTypeError\u001b[0m                                 Traceback (most recent call last)",
      "\u001b[0;32m/tmp/ipykernel_20185/2989431663.py\u001b[0m in \u001b[0;36m<module>\u001b[0;34m\u001b[0m\n\u001b[1;32m     27\u001b[0m \u001b[0;31m# Output\u001b[0m\u001b[0;34m\u001b[0m\u001b[0;34m\u001b[0m\u001b[0;34m\u001b[0m\u001b[0m\n\u001b[1;32m     28\u001b[0m \u001b[0mplt\u001b[0m\u001b[0;34m.\u001b[0m\u001b[0msavefig\u001b[0m\u001b[0;34m(\u001b[0m\u001b[0;34m\"../out/plot.png\"\u001b[0m\u001b[0;34m,\u001b[0m \u001b[0mdpi\u001b[0m\u001b[0;34m=\u001b[0m\u001b[0;36m500\u001b[0m\u001b[0;34m)\u001b[0m\u001b[0;34m\u001b[0m\u001b[0;34m\u001b[0m\u001b[0m\n\u001b[0;32m---> 29\u001b[0;31m \u001b[0mplt\u001b[0m\u001b[0;34m.\u001b[0m\u001b[0mshow\u001b[0m\u001b[0;34m(\u001b[0m\u001b[0mcmap\u001b[0m\u001b[0;34m=\u001b[0m\u001b[0mcmap\u001b[0m\u001b[0;34m)\u001b[0m\u001b[0;34m\u001b[0m\u001b[0;34m\u001b[0m\u001b[0m\n\u001b[0m",
      "\u001b[0;32m~/.local/lib/python3.7/site-packages/matplotlib/pyplot.py\u001b[0m in \u001b[0;36mshow\u001b[0;34m(*args, **kwargs)\u001b[0m\n\u001b[1;32m    376\u001b[0m     \"\"\"\n\u001b[1;32m    377\u001b[0m     \u001b[0m_warn_if_gui_out_of_main_thread\u001b[0m\u001b[0;34m(\u001b[0m\u001b[0;34m)\u001b[0m\u001b[0;34m\u001b[0m\u001b[0;34m\u001b[0m\u001b[0m\n\u001b[0;32m--> 378\u001b[0;31m     \u001b[0;32mreturn\u001b[0m \u001b[0m_backend_mod\u001b[0m\u001b[0;34m.\u001b[0m\u001b[0mshow\u001b[0m\u001b[0;34m(\u001b[0m\u001b[0;34m*\u001b[0m\u001b[0margs\u001b[0m\u001b[0;34m,\u001b[0m \u001b[0;34m**\u001b[0m\u001b[0mkwargs\u001b[0m\u001b[0;34m)\u001b[0m\u001b[0;34m\u001b[0m\u001b[0;34m\u001b[0m\u001b[0m\n\u001b[0m\u001b[1;32m    379\u001b[0m \u001b[0;34m\u001b[0m\u001b[0m\n\u001b[1;32m    380\u001b[0m \u001b[0;34m\u001b[0m\u001b[0m\n",
      "\u001b[0;31mTypeError\u001b[0m: show() got an unexpected keyword argument 'cmap'"
     ]
    },
    {
     "data": {
      "image/png": "[encoded data removed]",
      "text/plain": [
       "<Figure size 480x288 with 1 Axes>"
      ]
     },
     "metadata": {
      "needs_background": "light"
     },
     "output_type": "display_data"
    }
   ],
   "source": [
    "#summer = datetime(year=2021, month=8, day=15, hour=23, minute=15)\n",
    "#data = se_interface.request_SitePowerDetailed(summer, timedelta(days=1))\n",
    "\n",
    "df = data.copy()\n",
    "df = df / 1000 # set to KWh\n",
    "df = df.iloc[1: , :]    # Drop first row\n",
    "\n",
    "# Plot lines\n",
    "scaling = 120\n",
    "width = EPD_WIDTH / scaling\n",
    "height = EPD_HEIGHT / scaling\n",
    "df.plot(style=[\"-\", \"--\"], figsize=(width, height))\n",
    "\n",
    "# Add total consumption\n",
    "total = (df[\"Consumption\"].sum() - df[\"Production\"].sum()) / (24)\n",
    "plt.title(f\"Gesamtverbrauch (24h): {total:.2f}kWh\")\n",
    "\n",
    "# Formatting\n",
    "plt.grid()\n",
    "plt.xlabel(\"\")\n",
    "plt.ylabel(\"Leistung [kW]\")\n",
    "plt.legend(labels=[\"Produktion\", \"Verbrauch\"])\n",
    "\n",
    "\n",
    "cmap = colors.ListedColormap(['black', 'white'])\n",
    "\n",
    "# Output\n",
    "plt.savefig(\"../out/plot.png\", dpi=500)\n",
    "plt.show()"
   ]
  },
  {
   "cell_type": "code",
   "execution_count": null,
   "metadata": {},
   "outputs": [
    {
     "data": {
      "image/png": "[encoded data removed]",
      "text/plain": [
       "<PIL.Image.Image image mode=1 size=800x480 at 0x6AD2F070>"
      ]
     },
     "execution_count": 5,
     "metadata": {},
     "output_type": "execute_result"
    }
   ],
   "source": [
    "# png to bmp\n",
    "from PIL import Image\n",
    "\n",
    "file_in = \"../out/plot.png\"\n",
    "img = Image.open(file_in).convert(\"1\")\n",
    "img = img.resize((800,480), Image.HAMMING)\n",
    "file_out = \"../out/plot.bmp\"\n",
    "img.save(file_out)\n",
    "img\n"
   ]
  },
  {
   "cell_type": "code",
   "execution_count": null,
   "metadata": {},
   "outputs": [],
   "source": [
    "# include parent folder (Notebook version)\n",
    "import os, sys, inspect\n",
    "\n",
    "notebook_dir = os.getcwd()\n",
    "parentdir = os.path.dirname(notebook_dir)\n",
    "\n",
    "sys.path.insert(0, parentdir)\n",
    "\n",
    "\n",
    "from lib.epd7in5_V2 import *\n",
    "from PIL import Image,ImageDraw,ImageFont\n",
    "\n",
    "epd = EPD()\n",
    "\n",
    "logging.info(\"init and Clear\")\n",
    "epd.init()\n",
    "epd.Clear()"
   ]
  },
  {
   "cell_type": "code",
   "execution_count": null,
   "metadata": {},
   "outputs": [],
   "source": [
    "from lib.epd7in5_V2 import *\n",
    "from PIL import Image,ImageDraw,ImageFont\n",
    "\n",
    "epd = EPD()\n",
    "\n",
    "logging.info(\"init and Clear\")\n",
    "epd.init()\n",
    "epd.Clear()"
   ]
  },
  {
   "cell_type": "code",
   "execution_count": null,
   "metadata": {},
   "outputs": [],
   "source": [
    "Himage = Image.open(\"../out/plot.bmp\")\n",
    "epd.display(epd.getbuffer(Himage))"
   ]
  },
  {
   "cell_type": "code",
   "execution_count": null,
   "metadata": {},
   "outputs": [],
   "source": []
  },
  {
   "cell_type": "code",
   "execution_count": null,
   "metadata": {},
   "outputs": [],
   "source": []
  }
 ],
 "metadata": {
  "interpreter": {
   "hash": "9a83436940b59065249e0ac591e9ccdbda7a53659a5b7e612c47492e8a127fdd"
  },
  "kernelspec": {
   "display_name": "Python 3.7.9 64-bit",
   "name": "python3"
  },
  "language_info": {
   "codemirror_mode": {
    "name": "ipython",
    "version": 3
   },
   "file_extension": ".py",
   "mimetype": "text/x-python",
   "name": "python",
   "nbconvert_exporter": "python",
   "pygments_lexer": "ipython3",
   "version": "3.7.3"
  },
  "orig_nbformat": 4
 },
 "nbformat": 4,
 "nbformat_minor": 2
}
